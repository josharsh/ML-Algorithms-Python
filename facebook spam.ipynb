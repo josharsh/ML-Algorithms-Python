{
 "cells": [
  {
   "cell_type": "code",
   "execution_count": null,
   "metadata": {},
   "outputs": [
    {
     "name": "stdout",
     "output_type": "stream",
     "text": [
      "<fb.graph.api object at 0x000002B945107128>\n"
     ]
    }
   ],
   "source": [
    "import json\n",
    "import fb                     #To install this package run: sudo pip install fb\n",
    "from facepy import GraphAPI   #To install this package run: sudo pip install facepy\n",
    "\n",
    "def spam():\n",
    "    token = \"EAACEdEose0cBANDjFIoxwssZCZCRRIaZBnB2USptx5UeTy9D40Bstuq8OjIi4u5AaOgr53oNmTf37ek9ouSZBRCb5adQasreVbTPK5aGVBUxeCCIzqCjiQwexPjD3WfujONjuAIv9ux0h33rcX5ND9Pk0jDuI9BH2AAtXfBnQ4OBbSbeJc3r1bt112QaDGsZD\" #Insert access token here.  \n",
    "    facebook = fb.graph.api(token)\n",
    "    graph1 = GraphAPI(token)\n",
    "    print(facebook)\n",
    "    vid = input(\"Enter victim's Facebook id: \")\n",
    "    query = str(vid) + \"/posts?fields=id&limit=250\"\n",
    "    r = graph1.get(query)\n",
    "    print(query)\n",
    "    print(r)\n",
    "    \n",
    "    \n",
    "    \n",
    "    idlist = [x['id'] for x in r['data']]\n",
    "    idlist.reverse()\n",
    "    print(\"There are \"+ str(len(idlist)) +\" spammable posts.\")\n",
    "    print(str(len(idlist)))\n",
    "    \n",
    "    char1 = input(\"Do you want to spam? (y/n) \")\n",
    "    count = 0\n",
    "    if char1 == 'y':\n",
    "        nos = input(\"Enter number of posts to be spammed with comments: \")\n",
    "        mess = input(\"Enter the message to be commented: \")\n",
    "        print(nos)\n",
    "        if nos <= int(len(idlist)):\n",
    "            for indid in (idlist[(len(idlist) - nos):]):\n",
    "                facebook.publish(cat = \"comments\", id = indid, message = mess) #Comments on each post\n",
    "                facebook.publish(cat = \"likes\", id = indid) #Likes each post\n",
    "                count += 1\n",
    "                print(\"Notification number: \" + str(count) + \" on www.facebook.com/\" + str(indid).split('_')[0] \n",
    "                + \"/posts/\" + str(indid).split('_')[1])\n",
    "        else: \n",
    "          print(\"Not that many spammable posts available. No spam happening.\")\n",
    "    else :\n",
    "      print(\"No spam happening then.\")\n",
    "\n",
    "spam()"
   ]
  },
  {
   "cell_type": "code",
   "execution_count": null,
   "metadata": {
    "collapsed": true
   },
   "outputs": [],
   "source": []
  }
 ],
 "metadata": {
  "kernelspec": {
   "display_name": "Python 3",
   "language": "python",
   "name": "python3"
  },
  "language_info": {
   "codemirror_mode": {
    "name": "ipython",
    "version": 3
   },
   "file_extension": ".py",
   "mimetype": "text/x-python",
   "name": "python",
   "nbconvert_exporter": "python",
   "pygments_lexer": "ipython3",
   "version": "3.6.4"
  }
 },
 "nbformat": 4,
 "nbformat_minor": 2
}
