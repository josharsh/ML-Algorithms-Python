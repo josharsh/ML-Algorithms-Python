{
 "cells": [
  {
   "cell_type": "code",
   "execution_count": 3,
   "metadata": {
    "collapsed": true
   },
   "outputs": [],
   "source": [
    "import matplotlib.pyplot as plt\n",
    "from matplotlib import style\n",
    "style.use('ggplot')\n",
    "import numpy as np"
   ]
  },
  {
   "cell_type": "code",
   "execution_count": 4,
   "metadata": {
    "collapsed": true
   },
   "outputs": [],
   "source": [
    "X=np.array([[1,2],[1.5,1.8],[5,8],[8,8],[1,0.6],[9,11],[8,2],[10,2],[9,3]])\n"
   ]
  },
  {
   "cell_type": "code",
   "execution_count": 5,
   "metadata": {
    "collapsed": true
   },
   "outputs": [],
   "source": [
    "colors=10*[\"g\",\"r\",\"c\",\"b\",\"k\"]"
   ]
  },
  {
   "cell_type": "code",
   "execution_count": 6,
   "metadata": {},
   "outputs": [
    {
     "ename": "NameError",
     "evalue": "name 'centroids' is not defined",
     "output_type": "error",
     "traceback": [
      "\u001b[1;31m---------------------------------------------------------------------------\u001b[0m",
      "\u001b[1;31mNameError\u001b[0m                                 Traceback (most recent call last)",
      "\u001b[1;32m<ipython-input-6-9335541136f4>\u001b[0m in \u001b[0;36m<module>\u001b[1;34m()\u001b[0m\n\u001b[1;32m----> 1\u001b[1;33m \u001b[1;32mfor\u001b[0m \u001b[0mi\u001b[0m \u001b[1;32min\u001b[0m \u001b[0mlen\u001b[0m\u001b[1;33m(\u001b[0m\u001b[0mcentroids\u001b[0m\u001b[1;33m)\u001b[0m\u001b[1;33m:\u001b[0m\u001b[1;33m\u001b[0m\u001b[0m\n\u001b[0m\u001b[0;32m      2\u001b[0m     \u001b[0mco\u001b[0m\u001b[1;33m\u001b[0m\u001b[0m\n",
      "\u001b[1;31mNameError\u001b[0m: name 'centroids' is not defined"
     ]
    }
   ],
   "source": []
  },
  {
   "cell_type": "code",
   "execution_count": 30,
   "metadata": {
    "collapsed": true
   },
   "outputs": [],
   "source": [
    "X=np.array([[1,2],[1.5,1.8],[5,8],[8,8],[1,0.6],[9,11],[8,2],[10,2],[9,3]])\n",
    "\n",
    "colors=10*[\"g\",\"r\",\"c\",\"b\",\"k\"]\n",
    "class Mean_Shift:\n",
    "    FINALDICT={}\n",
    "    \n",
    "    def __init__(self,radius=5):\n",
    "        self.radius=radius\n",
    "        \n",
    "    def fit(self,data):\n",
    "        centroids={}\n",
    "        \n",
    "        for i in range(len(data)):\n",
    "            centroids[i]=data[i]\n",
    "            \n",
    "        while True:\n",
    "            new_centroids=[]\n",
    "            for i in centroids:\n",
    "                print(\"------------\",centroids)\n",
    "                in_bandwidth=[]\n",
    "                centroid=centroids[i]\n",
    "                print(\"+++++++++++++++++++\",centroid)\n",
    "                for featureset in data:\n",
    "                    if(np.linalg.norm(featureset-centroid)) < self.radius:\n",
    "                        in_bandwidth.append(featureset)\n",
    "                        print(\"############################\",in_bandwidth)\n",
    "                new_centroid=np.average(in_bandwidth,axis=0)\n",
    "                new_centroids.append(tuple(new_centroid))\n",
    "             #print(new_centroids)   \n",
    "            uniques=sorted(list(set(new_centroids)))\n",
    "            #print uniques\n",
    "            \n",
    "            \n",
    "      \n",
    "            prev_centroids=dict(centroids)\n",
    "            centroids={}\n",
    "            for i in range(len(uniques)):\n",
    "                centroids[i]=np.array(uniques[i])\n",
    "            optimized=True\n",
    "            for i in centroids:\n",
    "                if(np.array_equal(centroids[i],prev_centroids[i]))!=True:\n",
    "                    optimized=False\n",
    "                if optimized!=True: \n",
    "                    break\n",
    "            if optimized:\n",
    "                break\n",
    "        self.centroids=centroids"
   ]
  },
  {
   "cell_type": "code",
   "execution_count": 31,
   "metadata": {},
   "outputs": [
    {
     "name": "stdout",
     "output_type": "stream",
     "text": [
      "------------ {0: array([1., 2.]), 1: array([1.5, 1.8]), 2: array([5., 8.]), 3: array([8., 8.]), 4: array([1. , 0.6]), 5: array([ 9., 11.]), 6: array([8., 2.]), 7: array([10.,  2.]), 8: array([9., 3.])}\n",
      "+++++++++++++++++++ [1. 2.]\n",
      "############################ [array([1., 2.])]\n",
      "############################ [array([1., 2.]), array([1.5, 1.8])]\n",
      "############################ [array([1., 2.]), array([1.5, 1.8]), array([1. , 0.6])]\n",
      "------------ {0: array([1., 2.]), 1: array([1.5, 1.8]), 2: array([5., 8.]), 3: array([8., 8.]), 4: array([1. , 0.6]), 5: array([ 9., 11.]), 6: array([8., 2.]), 7: array([10.,  2.]), 8: array([9., 3.])}\n",
      "+++++++++++++++++++ [1.5 1.8]\n",
      "############################ [array([1., 2.])]\n",
      "############################ [array([1., 2.]), array([1.5, 1.8])]\n",
      "############################ [array([1., 2.]), array([1.5, 1.8]), array([1. , 0.6])]\n",
      "------------ {0: array([1., 2.]), 1: array([1.5, 1.8]), 2: array([5., 8.]), 3: array([8., 8.]), 4: array([1. , 0.6]), 5: array([ 9., 11.]), 6: array([8., 2.]), 7: array([10.,  2.]), 8: array([9., 3.])}\n",
      "+++++++++++++++++++ [5. 8.]\n",
      "############################ [array([5., 8.])]\n",
      "############################ [array([5., 8.]), array([8., 8.])]\n",
      "------------ {0: array([1., 2.]), 1: array([1.5, 1.8]), 2: array([5., 8.]), 3: array([8., 8.]), 4: array([1. , 0.6]), 5: array([ 9., 11.]), 6: array([8., 2.]), 7: array([10.,  2.]), 8: array([9., 3.])}\n",
      "+++++++++++++++++++ [8. 8.]\n",
      "############################ [array([5., 8.])]\n",
      "############################ [array([5., 8.]), array([8., 8.])]\n",
      "############################ [array([5., 8.]), array([8., 8.]), array([ 9., 11.])]\n",
      "------------ {0: array([1., 2.]), 1: array([1.5, 1.8]), 2: array([5., 8.]), 3: array([8., 8.]), 4: array([1. , 0.6]), 5: array([ 9., 11.]), 6: array([8., 2.]), 7: array([10.,  2.]), 8: array([9., 3.])}\n",
      "+++++++++++++++++++ [1.  0.6]\n",
      "############################ [array([1., 2.])]\n",
      "############################ [array([1., 2.]), array([1.5, 1.8])]\n",
      "############################ [array([1., 2.]), array([1.5, 1.8]), array([1. , 0.6])]\n",
      "------------ {0: array([1., 2.]), 1: array([1.5, 1.8]), 2: array([5., 8.]), 3: array([8., 8.]), 4: array([1. , 0.6]), 5: array([ 9., 11.]), 6: array([8., 2.]), 7: array([10.,  2.]), 8: array([9., 3.])}\n",
      "+++++++++++++++++++ [ 9. 11.]\n",
      "############################ [array([8., 8.])]\n",
      "############################ [array([8., 8.]), array([ 9., 11.])]\n",
      "------------ {0: array([1., 2.]), 1: array([1.5, 1.8]), 2: array([5., 8.]), 3: array([8., 8.]), 4: array([1. , 0.6]), 5: array([ 9., 11.]), 6: array([8., 2.]), 7: array([10.,  2.]), 8: array([9., 3.])}\n",
      "+++++++++++++++++++ [8. 2.]\n",
      "############################ [array([8., 2.])]\n",
      "############################ [array([8., 2.]), array([10.,  2.])]\n",
      "############################ [array([8., 2.]), array([10.,  2.]), array([9., 3.])]\n",
      "------------ {0: array([1., 2.]), 1: array([1.5, 1.8]), 2: array([5., 8.]), 3: array([8., 8.]), 4: array([1. , 0.6]), 5: array([ 9., 11.]), 6: array([8., 2.]), 7: array([10.,  2.]), 8: array([9., 3.])}\n",
      "+++++++++++++++++++ [10.  2.]\n",
      "############################ [array([8., 2.])]\n",
      "############################ [array([8., 2.]), array([10.,  2.])]\n",
      "############################ [array([8., 2.]), array([10.,  2.]), array([9., 3.])]\n",
      "------------ {0: array([1., 2.]), 1: array([1.5, 1.8]), 2: array([5., 8.]), 3: array([8., 8.]), 4: array([1. , 0.6]), 5: array([ 9., 11.]), 6: array([8., 2.]), 7: array([10.,  2.]), 8: array([9., 3.])}\n",
      "+++++++++++++++++++ [9. 3.]\n",
      "############################ [array([8., 2.])]\n",
      "############################ [array([8., 2.]), array([10.,  2.])]\n",
      "############################ [array([8., 2.]), array([10.,  2.]), array([9., 3.])]\n",
      "------------ {0: array([1.16666667, 1.46666667]), 1: array([6.5, 8. ]), 2: array([7.33333333, 9.        ]), 3: array([8.5, 9.5]), 4: array([9.        , 2.33333333])}\n",
      "+++++++++++++++++++ [1.16666667 1.46666667]\n",
      "############################ [array([1., 2.])]\n",
      "############################ [array([1., 2.]), array([1.5, 1.8])]\n",
      "############################ [array([1., 2.]), array([1.5, 1.8]), array([1. , 0.6])]\n",
      "------------ {0: array([1.16666667, 1.46666667]), 1: array([6.5, 8. ]), 2: array([7.33333333, 9.        ]), 3: array([8.5, 9.5]), 4: array([9.        , 2.33333333])}\n",
      "+++++++++++++++++++ [6.5 8. ]\n",
      "############################ [array([5., 8.])]\n",
      "############################ [array([5., 8.]), array([8., 8.])]\n",
      "############################ [array([5., 8.]), array([8., 8.]), array([ 9., 11.])]\n",
      "------------ {0: array([1.16666667, 1.46666667]), 1: array([6.5, 8. ]), 2: array([7.33333333, 9.        ]), 3: array([8.5, 9.5]), 4: array([9.        , 2.33333333])}\n",
      "+++++++++++++++++++ [7.33333333 9.        ]\n",
      "############################ [array([5., 8.])]\n",
      "############################ [array([5., 8.]), array([8., 8.])]\n",
      "############################ [array([5., 8.]), array([8., 8.]), array([ 9., 11.])]\n",
      "------------ {0: array([1.16666667, 1.46666667]), 1: array([6.5, 8. ]), 2: array([7.33333333, 9.        ]), 3: array([8.5, 9.5]), 4: array([9.        , 2.33333333])}\n",
      "+++++++++++++++++++ [8.5 9.5]\n",
      "############################ [array([5., 8.])]\n",
      "############################ [array([5., 8.]), array([8., 8.])]\n",
      "############################ [array([5., 8.]), array([8., 8.]), array([ 9., 11.])]\n",
      "------------ {0: array([1.16666667, 1.46666667]), 1: array([6.5, 8. ]), 2: array([7.33333333, 9.        ]), 3: array([8.5, 9.5]), 4: array([9.        , 2.33333333])}\n",
      "+++++++++++++++++++ [9.         2.33333333]\n",
      "############################ [array([8., 2.])]\n",
      "############################ [array([8., 2.]), array([10.,  2.])]\n",
      "############################ [array([8., 2.]), array([10.,  2.]), array([9., 3.])]\n",
      "------------ {0: array([1.16666667, 1.46666667]), 1: array([7.33333333, 9.        ]), 2: array([9.        , 2.33333333])}\n",
      "+++++++++++++++++++ [1.16666667 1.46666667]\n",
      "############################ [array([1., 2.])]\n",
      "############################ [array([1., 2.]), array([1.5, 1.8])]\n",
      "############################ [array([1., 2.]), array([1.5, 1.8]), array([1. , 0.6])]\n",
      "------------ {0: array([1.16666667, 1.46666667]), 1: array([7.33333333, 9.        ]), 2: array([9.        , 2.33333333])}\n",
      "+++++++++++++++++++ [7.33333333 9.        ]\n",
      "############################ [array([5., 8.])]\n",
      "############################ [array([5., 8.]), array([8., 8.])]\n",
      "############################ [array([5., 8.]), array([8., 8.]), array([ 9., 11.])]\n",
      "------------ {0: array([1.16666667, 1.46666667]), 1: array([7.33333333, 9.        ]), 2: array([9.        , 2.33333333])}\n",
      "+++++++++++++++++++ [9.         2.33333333]\n",
      "############################ [array([8., 2.])]\n",
      "############################ [array([8., 2.]), array([10.,  2.])]\n",
      "############################ [array([8., 2.]), array([10.,  2.]), array([9., 3.])]\n",
      "{0: array([1.16666667, 1.46666667]), 1: array([7.33333333, 9.        ]), 2: array([9.        , 2.33333333])}\n"
     ]
    }
   ],
   "source": [
    "clf=Mean_Shift()\n",
    "clf.fit(X)\n",
    "centroids=clf.centroids\n"
   ]
  },
  {
   "cell_type": "code",
   "execution_count": 42,
   "metadata": {},
   "outputs": [
    {
     "data": {
      "image/png": "[encoded data removed]",
      "text/plain": [
       "<matplotlib.figure.Figure at 0x1b296e53c50>"
      ]
     },
     "metadata": {},
     "output_type": "display_data"
    }
   ],
   "source": [
    "\n",
    "for i in range(len(centroids)):\n",
    "    plt.scatter(X[:,0],X[:,1],color=colors[i],s=150)\n",
    "    for c in centroids:\n",
    "           plt.scatter(centroids[c][0],centroids[c][1],color=colors[c],marker='*',s=250)\n",
    "plt.show()"
   ]
  },
  {
   "cell_type": "code",
   "execution_count": 32,
   "metadata": {},
   "outputs": [
    {
     "name": "stdout",
     "output_type": "stream",
     "text": [
      "{0: array([1.16666667, 1.46666667]), 1: array([7.33333333, 9.        ]), 2: array([9.        , 2.33333333])}\n"
     ]
    }
   ],
   "source": [
    "print(centroids)"
   ]
  },
  {
   "cell_type": "code",
   "execution_count": null,
   "metadata": {
    "collapsed": true
   },
   "outputs": [],
   "source": []
  }
 ],
 "metadata": {
  "kernelspec": {
   "display_name": "Python 3",
   "language": "python",
   "name": "python3"
  },
  "language_info": {
   "codemirror_mode": {
    "name": "ipython",
    "version": 3
   },
   "file_extension": ".py",
   "mimetype": "text/x-python",
   "name": "python",
   "nbconvert_exporter": "python",
   "pygments_lexer": "ipython3",
   "version": "3.6.4"
  }
 },
 "nbformat": 4,
 "nbformat_minor": 2
}
