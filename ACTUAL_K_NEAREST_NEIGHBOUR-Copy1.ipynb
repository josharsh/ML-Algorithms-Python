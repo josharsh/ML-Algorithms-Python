{
 "cells": [
  {
   "cell_type": "code",
   "execution_count": 1,
   "metadata": {
    "collapsed": true
   },
   "outputs": [],
   "source": [
    "import numpy as np\n",
    "import matplotlib.pyplot as plt\n",
    "import warnings\n",
    "from matplotlib import style\n",
    "from collections import Counter\n",
    "style.use('fivethirtyeight')\n",
    "import pandas as pd\n",
    "import random"
   ]
  },
  {
   "cell_type": "code",
   "execution_count": 5,
   "metadata": {},
   "outputs": [],
   "source": [
    "df=pd.read_csv('breast-cancer-wisconsin.data.txt')\n",
    "df.replace('?',-99999,inplace = True )\n",
    "df.drop((['id']),1,inplace=True)\n",
    "full_data=df.astype(float).values.tolist()\n"
   ]
  },
  {
   "cell_type": "code",
   "execution_count": 6,
   "metadata": {
    "collapsed": true
   },
   "outputs": [],
   "source": [
    "random.shuffle(full_data)       #to shuffle the data so that we get all labels in both training as well as training data\n",
    "test_size=0.2              \n",
    "train_set={2:[],4:[]}        #dictionary for train_set(it'll have both unique labels(2 and 4))\n",
    "test_set={2:[],4:[]}              #dictionary for test_set(it'll have both unique labels(2 and 4))\n",
    "\n",
    "train_data=full_data[:-int(test_size*len(full_data))]        \n",
    "# or train_data=full_data[:(int(len(full_data))-int((test_size*len(full_data))))]\n",
    "test_data=full_data[-int(test_size*len(full_data)):]"
   ]
  },
  {
   "cell_type": "code",
   "execution_count": 7,
   "metadata": {
    "collapsed": true
   },
   "outputs": [],
   "source": [
    "for i in train_data:                             #insering values from train_data to train_set dictionary\n",
    "    train_set[i[-1]].append(i[:-1])\n",
    "    \n",
    "for i in test_data:                              #insering values from test_data to test_set dictionary\n",
    "    test_set[i[-1]].append(i[:-1])"
   ]
  },
  {
   "cell_type": "code",
   "execution_count": 8,
   "metadata": {},
   "outputs": [
    {
     "data": {
      "text/plain": [
       "{2: [[5.0, 1.0, 2.0, 1.0, 2.0, 1.0, 1.0, 1.0, 1.0],\n",
       "  [2.0, 1.0, 1.0, 1.0, 2.0, 1.0, 2.0, 1.0, 1.0],\n",
       "  [6.0, 1.0, 3.0, 1.0, 2.0, 1.0, 3.0, 1.0, 1.0],\n",
       "  [5.0, 1.0, 1.0, 2.0, 2.0, 1.0, 2.0, 1.0, 1.0],\n",
       "  [5.0, 1.0, 3.0, 3.0, 2.0, 2.0, 2.0, 3.0, 1.0],\n",
       "  [3.0, 2.0, 2.0, 3.0, 2.0, 1.0, 1.0, 1.0, 1.0],\n",
       "  [4.0, 1.0, 1.0, 1.0, 3.0, 1.0, 1.0, 1.0, 1.0],\n",
       "  [4.0, 1.0, 1.0, 1.0, 2.0, 1.0, 1.0, 1.0, 1.0],\n",
       "  [3.0, 1.0, 1.0, 1.0, 2.0, 1.0, 1.0, 1.0, 1.0],\n",
       "  [5.0, 2.0, 2.0, 2.0, 3.0, 1.0, 1.0, 3.0, 1.0],\n",
       "  [3.0, 1.0, 2.0, 1.0, 2.0, 1.0, 2.0, 1.0, 1.0],\n",
       "  [5.0, 1.0, 1.0, 1.0, 2.0, 1.0, 2.0, 1.0, 1.0],\n",
       "  [3.0, 2.0, 2.0, 1.0, 2.0, 1.0, 2.0, 3.0, 1.0],\n",
       "  [2.0, 1.0, 1.0, 1.0, 2.0, 1.0, 3.0, 1.0, 1.0],\n",
       "  [5.0, 1.0, 1.0, 1.0, 2.0, 1.0, 2.0, 2.0, 1.0],\n",
       "  [5.0, 1.0, 1.0, 1.0, 2.0, 1.0, 2.0, 1.0, 1.0],\n",
       "  [2.0, 1.0, 1.0, 1.0, 1.0, 1.0, 2.0, 1.0, 1.0],\n",
       "  [1.0, 1.0, 1.0, 2.0, 1.0, 3.0, 1.0, 1.0, 7.0],\n",
       "  [5.0, 2.0, 2.0, 2.0, 1.0, 1.0, 2.0, 1.0, 1.0],\n",
       "  [4.0, 1.0, 3.0, 3.0, 2.0, 1.0, 1.0, 1.0, 1.0],\n",
       "  [3.0, 1.0, 1.0, 1.0, 3.0, 1.0, 2.0, 1.0, 1.0],\n",
       "  [3.0, 1.0, 1.0, 2.0, 2.0, 1.0, 1.0, 1.0, 1.0],\n",
       "  [5.0, 1.0, 1.0, 2.0, 1.0, 1.0, 2.0, 1.0, 1.0],\n",
       "  [4.0, 1.0, 1.0, 1.0, 2.0, 1.0, 3.0, 6.0, 1.0],\n",
       "  [5.0, 3.0, 2.0, 1.0, 3.0, 1.0, 1.0, 1.0, 1.0],\n",
       "  [4.0, 1.0, 1.0, 1.0, 2.0, 1.0, 3.0, 1.0, 1.0],\n",
       "  [1.0, 1.0, 1.0, 1.0, 2.0, 1.0, 1.0, 1.0, 1.0],\n",
       "  [3.0, 1.0, 1.0, 1.0, 2.0, 5.0, 5.0, 1.0, 1.0],\n",
       "  [1.0, 1.0, 1.0, 1.0, 1.0, 1.0, 1.0, 3.0, 1.0],\n",
       "  [4.0, 1.0, 2.0, 1.0, 2.0, 1.0, 2.0, 1.0, 1.0],\n",
       "  [1.0, 1.0, 1.0, 1.0, 2.0, 1.0, 3.0, 1.0, 1.0],\n",
       "  [3.0, 1.0, 1.0, 1.0, 1.0, 1.0, 1.0, 1.0, 1.0],\n",
       "  [3.0, 1.0, 1.0, 1.0, 2.0, 1.0, 2.0, 1.0, 1.0],\n",
       "  [5.0, 1.0, 1.0, 1.0, 1.0, 1.0, 1.0, 1.0, 1.0],\n",
       "  [3.0, 1.0, 1.0, 1.0, 2.0, 1.0, 1.0, 1.0, 1.0],\n",
       "  [4.0, 1.0, 1.0, 1.0, 2.0, 1.0, 3.0, 1.0, 1.0],\n",
       "  [3.0, 1.0, 4.0, 1.0, 2.0, 1.0, 1.0, 1.0, 1.0],\n",
       "  [5.0, 1.0, 1.0, 1.0, 2.0, 1.0, 1.0, 1.0, 1.0],\n",
       "  [3.0, 1.0, 1.0, 1.0, 2.0, 1.0, 1.0, 1.0, 1.0],\n",
       "  [3.0, 1.0, 1.0, 1.0, 2.0, 1.0, 3.0, 1.0, 1.0],\n",
       "  [1.0, 1.0, 1.0, 1.0, 2.0, 1.0, 2.0, 1.0, 1.0],\n",
       "  [1.0, 1.0, 1.0, 1.0, 2.0, 1.0, 3.0, 1.0, 1.0],\n",
       "  [5.0, 4.0, 5.0, 1.0, 8.0, 1.0, 3.0, 6.0, 1.0],\n",
       "  [4.0, 1.0, 1.0, 1.0, 2.0, 1.0, 2.0, 1.0, 1.0],\n",
       "  [5.0, 1.0, 2.0, 1.0, 2.0, 1.0, 3.0, 1.0, 1.0],\n",
       "  [3.0, 1.0, 1.0, 1.0, 2.0, 1.0, 2.0, 1.0, 1.0],\n",
       "  [2.0, 1.0, 1.0, 1.0, 2.0, 1.0, 3.0, 1.0, 1.0],\n",
       "  [5.0, 1.0, 1.0, 1.0, 2.0, 1.0, 1.0, 1.0, 1.0],\n",
       "  [3.0, 1.0, 1.0, 1.0, 2.0, 1.0, 3.0, 1.0, 1.0],\n",
       "  [5.0, 1.0, 4.0, 1.0, 2.0, 1.0, 3.0, 2.0, 1.0],\n",
       "  [5.0, 1.0, 2.0, 10.0, 4.0, 5.0, 2.0, 1.0, 1.0],\n",
       "  [1.0, 1.0, 1.0, 1.0, 2.0, 1.0, 2.0, 1.0, 1.0],\n",
       "  [1.0, 2.0, 2.0, 1.0, 2.0, 1.0, 2.0, 1.0, 1.0],\n",
       "  [8.0, 4.0, 4.0, 5.0, 4.0, 7.0, 7.0, 8.0, 2.0],\n",
       "  [1.0, 1.0, 1.0, 1.0, 1.0, -99999.0, 1.0, 1.0, 1.0],\n",
       "  [3.0, 3.0, 2.0, 1.0, 2.0, 3.0, 3.0, 1.0, 1.0],\n",
       "  [1.0, 2.0, 2.0, 1.0, 2.0, 1.0, 1.0, 1.0, 1.0],\n",
       "  [3.0, 1.0, 4.0, 1.0, 2.0, -99999.0, 3.0, 1.0, 1.0],\n",
       "  [1.0, 1.0, 1.0, 1.0, 2.0, 1.0, 2.0, 1.0, 1.0],\n",
       "  [1.0, 1.0, 1.0, 1.0, 2.0, 1.0, 2.0, 1.0, 1.0],\n",
       "  [1.0, 1.0, 1.0, 1.0, 2.0, 5.0, 5.0, 1.0, 1.0],\n",
       "  [1.0, 1.0, 1.0, 1.0, 2.0, 1.0, 1.0, 1.0, 1.0],\n",
       "  [1.0, 1.0, 1.0, 1.0, 10.0, 1.0, 1.0, 1.0, 1.0],\n",
       "  [2.0, 1.0, 1.0, 2.0, 2.0, 1.0, 3.0, 1.0, 1.0],\n",
       "  [6.0, 2.0, 1.0, 1.0, 1.0, 1.0, 7.0, 1.0, 1.0],\n",
       "  [2.0, 1.0, 1.0, 1.0, 2.0, 1.0, 1.0, 1.0, 1.0],\n",
       "  [6.0, 1.0, 1.0, 1.0, 1.0, 1.0, 1.0, 1.0, 1.0],\n",
       "  [1.0, 1.0, 1.0, 1.0, 2.0, 1.0, 1.0, 1.0, 1.0],\n",
       "  [4.0, 4.0, 2.0, 1.0, 2.0, 5.0, 2.0, 1.0, 2.0],\n",
       "  [4.0, 6.0, 5.0, 6.0, 7.0, -99999.0, 4.0, 9.0, 1.0],\n",
       "  [1.0, 1.0, 1.0, 1.0, 1.0, 1.0, 3.0, 1.0, 1.0],\n",
       "  [4.0, 1.0, 1.0, 1.0, 2.0, 1.0, 2.0, 1.0, 1.0],\n",
       "  [5.0, 1.0, 1.0, 3.0, 2.0, 1.0, 1.0, 1.0, 1.0],\n",
       "  [5.0, 1.0, 1.0, 1.0, 2.0, 1.0, 2.0, 1.0, 1.0],\n",
       "  [1.0, 1.0, 1.0, 1.0, 2.0, 1.0, 3.0, 1.0, 1.0],\n",
       "  [1.0, 1.0, 1.0, 1.0, 2.0, 1.0, 1.0, 1.0, 1.0],\n",
       "  [2.0, 1.0, 1.0, 1.0, 2.0, 1.0, 2.0, 1.0, 1.0],\n",
       "  [5.0, 3.0, 1.0, 2.0, 2.0, 1.0, 2.0, 1.0, 1.0],\n",
       "  [1.0, 1.0, 1.0, 1.0, 1.0, 1.0, 1.0, 1.0, 1.0],\n",
       "  [1.0, 1.0, 1.0, 1.0, 1.0, 1.0, 3.0, 1.0, 1.0],\n",
       "  [6.0, 3.0, 3.0, 3.0, 3.0, 2.0, 6.0, 1.0, 1.0],\n",
       "  [5.0, 1.0, 1.0, 1.0, 2.0, 1.0, 2.0, 2.0, 1.0],\n",
       "  [3.0, 1.0, 1.0, 1.0, 2.0, 1.0, 2.0, 1.0, 1.0],\n",
       "  [3.0, 1.0, 1.0, 2.0, 3.0, 4.0, 1.0, 1.0, 1.0],\n",
       "  [1.0, 2.0, 1.0, 3.0, 2.0, 1.0, 1.0, 2.0, 1.0],\n",
       "  [6.0, 1.0, 1.0, 1.0, 2.0, 1.0, 2.0, 1.0, 1.0],\n",
       "  [3.0, 1.0, 1.0, 1.0, 2.0, 1.0, 3.0, 1.0, 1.0],\n",
       "  [1.0, 3.0, 3.0, 2.0, 2.0, 1.0, 7.0, 2.0, 1.0],\n",
       "  [3.0, 1.0, 2.0, 2.0, 2.0, 1.0, 1.0, 1.0, 1.0]],\n",
       " 4: [[6.0, 6.0, 7.0, 10.0, 3.0, 10.0, 8.0, 10.0, 2.0],\n",
       "  [8.0, 4.0, 7.0, 1.0, 3.0, 10.0, 3.0, 9.0, 2.0],\n",
       "  [5.0, 2.0, 3.0, 1.0, 6.0, 10.0, 5.0, 1.0, 1.0],\n",
       "  [5.0, 7.0, 10.0, 6.0, 5.0, 10.0, 7.0, 5.0, 1.0],\n",
       "  [6.0, 3.0, 2.0, 1.0, 3.0, 4.0, 4.0, 1.0, 1.0],\n",
       "  [8.0, 10.0, 10.0, 10.0, 6.0, 10.0, 10.0, 10.0, 10.0],\n",
       "  [10.0, 10.0, 7.0, 8.0, 7.0, 1.0, 10.0, 10.0, 3.0],\n",
       "  [10.0, 5.0, 10.0, 3.0, 5.0, 8.0, 7.0, 8.0, 3.0],\n",
       "  [10.0, 10.0, 6.0, 3.0, 3.0, 10.0, 4.0, 3.0, 2.0],\n",
       "  [8.0, 2.0, 4.0, 1.0, 5.0, 1.0, 5.0, 4.0, 4.0],\n",
       "  [8.0, 10.0, 10.0, 8.0, 5.0, 10.0, 7.0, 8.0, 1.0],\n",
       "  [8.0, 4.0, 10.0, 5.0, 4.0, 4.0, 7.0, 10.0, 1.0],\n",
       "  [6.0, 10.0, 2.0, 8.0, 10.0, 2.0, 7.0, 8.0, 10.0],\n",
       "  [7.0, 3.0, 4.0, 4.0, 3.0, 3.0, 3.0, 2.0, 7.0],\n",
       "  [10.0, 6.0, 3.0, 6.0, 4.0, 10.0, 7.0, 8.0, 4.0],\n",
       "  [8.0, 8.0, 9.0, 4.0, 5.0, 10.0, 7.0, 8.0, 1.0],\n",
       "  [3.0, 4.0, 4.0, 10.0, 5.0, 1.0, 3.0, 3.0, 1.0],\n",
       "  [2.0, 5.0, 7.0, 6.0, 4.0, 10.0, 7.0, 6.0, 1.0],\n",
       "  [5.0, 10.0, 10.0, 5.0, 4.0, 5.0, 4.0, 4.0, 1.0],\n",
       "  [5.0, 10.0, 10.0, 10.0, 4.0, 10.0, 5.0, 6.0, 3.0],\n",
       "  [7.0, 8.0, 7.0, 6.0, 4.0, 3.0, 8.0, 8.0, 4.0],\n",
       "  [10.0, 6.0, 6.0, 3.0, 4.0, 5.0, 3.0, 6.0, 1.0],\n",
       "  [10.0, 4.0, 2.0, 1.0, 3.0, 2.0, 4.0, 3.0, 10.0],\n",
       "  [10.0, 9.0, 8.0, 7.0, 6.0, 4.0, 7.0, 10.0, 3.0],\n",
       "  [8.0, 2.0, 3.0, 1.0, 6.0, 3.0, 7.0, 1.0, 1.0],\n",
       "  [7.0, 4.0, 7.0, 4.0, 3.0, 7.0, 7.0, 6.0, 1.0],\n",
       "  [8.0, 10.0, 8.0, 8.0, 4.0, 8.0, 7.0, 7.0, 1.0],\n",
       "  [8.0, 10.0, 5.0, 3.0, 8.0, 4.0, 4.0, 10.0, 3.0],\n",
       "  [10.0, 5.0, 5.0, 3.0, 6.0, 7.0, 7.0, 10.0, 1.0],\n",
       "  [7.0, 8.0, 3.0, 7.0, 4.0, 5.0, 7.0, 8.0, 2.0],\n",
       "  [6.0, 10.0, 10.0, 10.0, 8.0, 10.0, 10.0, 10.0, 7.0],\n",
       "  [10.0, 10.0, 10.0, 10.0, 5.0, 10.0, 10.0, 10.0, 7.0],\n",
       "  [7.0, 5.0, 10.0, 10.0, 10.0, 10.0, 4.0, 10.0, 3.0],\n",
       "  [10.0, 4.0, 7.0, 2.0, 2.0, 8.0, 6.0, 1.0, 1.0],\n",
       "  [5.0, 6.0, 7.0, 8.0, 8.0, 10.0, 3.0, 10.0, 3.0],\n",
       "  [9.0, 5.0, 5.0, 4.0, 4.0, 5.0, 4.0, 3.0, 3.0],\n",
       "  [5.0, 6.0, 5.0, 6.0, 10.0, 1.0, 3.0, 1.0, 1.0],\n",
       "  [5.0, 2.0, 3.0, 4.0, 2.0, 7.0, 3.0, 6.0, 1.0],\n",
       "  [10.0, 8.0, 8.0, 2.0, 3.0, 4.0, 8.0, 7.0, 8.0],\n",
       "  [5.0, 5.0, 5.0, 8.0, 10.0, 8.0, 7.0, 3.0, 7.0],\n",
       "  [10.0, 8.0, 10.0, 10.0, 6.0, 1.0, 3.0, 1.0, 10.0],\n",
       "  [10.0, 4.0, 6.0, 4.0, 5.0, 10.0, 7.0, 1.0, 1.0],\n",
       "  [4.0, 10.0, 4.0, 7.0, 3.0, 10.0, 9.0, 10.0, 1.0],\n",
       "  [10.0, 4.0, 6.0, 1.0, 2.0, 10.0, 5.0, 3.0, 1.0],\n",
       "  [8.0, 10.0, 10.0, 8.0, 6.0, 9.0, 3.0, 10.0, 10.0],\n",
       "  [10.0, 10.0, 10.0, 10.0, 7.0, 10.0, 7.0, 10.0, 4.0],\n",
       "  [5.0, 10.0, 10.0, 10.0, 10.0, 10.0, 10.0, 1.0, 1.0],\n",
       "  [5.0, 10.0, 10.0, 6.0, 10.0, 10.0, 10.0, 6.0, 5.0],\n",
       "  [10.0, 10.0, 8.0, 6.0, 4.0, 5.0, 8.0, 10.0, 1.0],\n",
       "  [10.0, 4.0, 3.0, 10.0, 3.0, 10.0, 7.0, 1.0, 2.0]]}"
      ]
     },
     "execution_count": 8,
     "metadata": {},
     "output_type": "execute_result"
    }
   ],
   "source": [
    "test_set"
   ]
  },
  {
   "cell_type": "code",
   "execution_count": 9,
   "metadata": {
    "collapsed": true
   },
   "outputs": [],
   "source": [
    "def k_nearest_neighbors(data,predict,k=3):\n",
    "    \n",
    "    if len(data)>=k:\n",
    "        print(\"k is set to a a value less than total voting group\")\n",
    "    \n",
    "    distances=[]\n",
    "    for group in data:\n",
    "        for features in data[group]:\n",
    "            euclidean_distance=np.linalg.norm(np.array(features)-np.array(predict))\n",
    "            distances.append([euclidean_distance,group])\n",
    "    #print distances        \n",
    "    #print sorted distances\n",
    "    #print (sorted (distances)[:k])\n",
    "    \n",
    "    votes=[i[1] for i in sorted (distances)[:k]]\n",
    "   \n",
    "    vote_result=Counter(votes).most_common(1)[0][0]\n",
    "    return vote_result"
   ]
  },
  {
   "cell_type": "code",
   "execution_count": null,
   "metadata": {
    "collapsed": true
   },
   "outputs": [],
   "source": []
  },
  {
   "cell_type": "code",
   "execution_count": 10,
   "metadata": {
    "scrolled": true
   },
   "outputs": [
    {
     "name": "stdout",
     "output_type": "stream",
     "text": [
      "('Accuracy', 0)\n"
     ]
    }
   ],
   "source": [
    "correct=0\n",
    "total=0\n",
    "for group in test_set:\n",
    "    for data in test_set[group]:\n",
    "        vote=k_nearest_neighbors(train_set,data,k=6)\n",
    "        if group==vote:\n",
    "            correct+=1\n",
    "        total+=1\n",
    "print(\"Accuracy\", correct/total)"
   ]
  },
  {
   "cell_type": "code",
   "execution_count": 11,
   "metadata": {
    "collapsed": true
   },
   "outputs": [],
   "source": [
    "a=[1,2,3]\n",
    "b=[2,4,6]"
   ]
  },
  {
   "cell_type": "code",
   "execution_count": 12,
   "metadata": {},
   "outputs": [
    {
     "data": {
      "image/png": "[encoded data removed]",
      "text/plain": [
       "<matplotlib.figure.Figure at 0xcb464e0>"
      ]
     },
     "metadata": {},
     "output_type": "display_data"
    }
   ],
   "source": [
    "plt.plot(a,b)\n",
    "plt.show()"
   ]
  },
  {
   "cell_type": "code",
   "execution_count": null,
   "metadata": {
    "collapsed": true
   },
   "outputs": [],
   "source": []
  }
 ],
 "metadata": {
  "kernelspec": {
   "display_name": "Python 2",
   "language": "python",
   "name": "python2"
  },
  "language_info": {
   "codemirror_mode": {
    "name": "ipython",
    "version": 2
   },
   "file_extension": ".py",
   "mimetype": "text/x-python",
   "name": "python",
   "nbconvert_exporter": "python",
   "pygments_lexer": "ipython2",
   "version": "2.7.14"
  }
 },
 "nbformat": 4,
 "nbformat_minor": 2
}
