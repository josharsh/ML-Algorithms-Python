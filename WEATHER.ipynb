{
 "cells": [
  {
   "cell_type": "raw",
   "metadata": {},
   "source": [
    "DECISION TREE"
   ]
  },
  {
   "cell_type": "code",
   "execution_count": 4,
   "metadata": {},
   "outputs": [],
   "source": [
    "header=[\"outlook\",\"temperature\",\"humidity\",\"wind\",\"decision\"]\n",
    "\n",
    "training_data=[\n",
    "['sunny,hot','high','weak','no'],\n",
    "['sunny','hot','high','strong','no'],\n",
    "['overcast','hot','high','weak','yes'],\n",
    "['rain','mild','high','weak','yes'],\n",
    "['rain','cool','normal','weak','yes'],\n",
    "['rain','cool','normal','strong','no'],\n",
    "['overcast','cool','normal','strong','yes'],\n",
    "['sunny','mild','high','weak','no'],\n",
    "['sunny','cool','normal','weak','yes'],\n",
    "['rain','mild','normal','weak','yes'],\n",
    "['sunny','mild','normal','strong','yes'],\n",
    "['overcast','mild','high','strong','yes'],\n",
    "['overcast','hot','normal','weak','yes'],\n",
    "['rain','mild','high','strong','no'],\n",
    "]"
   ]
  },
  {
   "cell_type": "code",
   "execution_count": null,
   "metadata": {
    "collapsed": true
   },
   "outputs": [],
   "source": []
  },
  {
   "cell_type": "code",
   "execution_count": 5,
   "metadata": {
    "collapsed": true
   },
   "outputs": [],
   "source": [
    "def unique_vals(Data,col):\n",
    "    return set([row[col] for row in Data])"
   ]
  },
  {
   "cell_type": "code",
   "execution_count": 6,
   "metadata": {},
   "outputs": [
    {
     "data": {
      "text/plain": [
       "{'cool', 'high', 'hot', 'mild'}"
      ]
     },
     "execution_count": 6,
     "metadata": {},
     "output_type": "execute_result"
    }
   ],
   "source": [
    "unique_vals(training_data,1)"
   ]
  },
  {
   "cell_type": "code",
   "execution_count": 7,
   "metadata": {
    "collapsed": true
   },
   "outputs": [],
   "source": [
    "def class_counts(Data):\n",
    "    counts={}\n",
    "    for row in Data:\n",
    "        label = row[-1]\n",
    "        if label not in counts:\n",
    "            counts[label]=0\n",
    "        counts[label]+=1\n",
    "    return counts"
   ]
  },
  {
   "cell_type": "code",
   "execution_count": 8,
   "metadata": {},
   "outputs": [
    {
     "data": {
      "text/plain": [
       "{'no': 5, 'yes': 9}"
      ]
     },
     "execution_count": 8,
     "metadata": {},
     "output_type": "execute_result"
    }
   ],
   "source": [
    "class_counts(training_data)"
   ]
  },
  {
   "cell_type": "code",
   "execution_count": 9,
   "metadata": {
    "collapsed": true
   },
   "outputs": [],
   "source": [
    "def is_numeric(value):\n",
    "    return isinstance(value,int) or isinstance(value,float)"
   ]
  },
  {
   "cell_type": "code",
   "execution_count": 10,
   "metadata": {},
   "outputs": [
    {
     "data": {
      "text/plain": [
       "True"
      ]
     },
     "execution_count": 10,
     "metadata": {},
     "output_type": "execute_result"
    }
   ],
   "source": [
    "is_numeric(50)"
   ]
  },
  {
   "cell_type": "code",
   "execution_count": 11,
   "metadata": {
    "collapsed": true
   },
   "outputs": [],
   "source": [
    "class Question():\n",
    "    def __init__(self,column,value):\n",
    "        self.column=column\n",
    "        self.value=value\n",
    "    def match(self,example):\n",
    "        val=example[self.column]\n",
    "        if is_numeric(val):\n",
    "            return val ==self.value\n",
    "        else:\n",
    "            return val==self.value\n",
    "    def __repr__(self):\n",
    "        condition= \"==\"\n",
    "        if is_numeric(self.value):\n",
    "            condition=\">=\"\n",
    "        return \"IS %s %s %s?\" % (header[self.column],condition,str(self.value))\n",
    "        "
   ]
  },
  {
   "cell_type": "code",
   "execution_count": 12,
   "metadata": {},
   "outputs": [
    {
     "data": {
      "text/plain": [
       "IS outlook == red?"
      ]
     },
     "execution_count": 12,
     "metadata": {},
     "output_type": "execute_result"
    }
   ],
   "source": [
    "Question(0,'red')"
   ]
  },
  {
   "cell_type": "code",
   "execution_count": 13,
   "metadata": {
    "collapsed": true
   },
   "outputs": [],
   "source": [
    "def partition(rows,question):\n",
    "    true_rows,false_rows=[], []\n",
    "    for row in rows:\n",
    "        if question.match(row):\n",
    "            true_rows.append(row)\n",
    "        else:\n",
    "            false_rows.append(row)\n",
    "    return true_rows,false_rows"
   ]
  },
  {
   "cell_type": "code",
   "execution_count": 14,
   "metadata": {
    "collapsed": true
   },
   "outputs": [],
   "source": [
    "true_rows, false_rows = partition(training_data, Question(1,3))"
   ]
  },
  {
   "cell_type": "code",
   "execution_count": 15,
   "metadata": {},
   "outputs": [
    {
     "data": {
      "text/plain": [
       "[['sunny,hot', 'high', 'weak', 'no'],\n",
       " ['sunny', 'hot', 'high', 'strong', 'no'],\n",
       " ['overcast', 'hot', 'high', 'weak', 'yes'],\n",
       " ['rain', 'mild', 'high', 'weak', 'yes'],\n",
       " ['rain', 'cool', 'normal', 'weak', 'yes'],\n",
       " ['rain', 'cool', 'normal', 'strong', 'no'],\n",
       " ['overcast', 'cool', 'normal', 'strong', 'yes'],\n",
       " ['sunny', 'mild', 'high', 'weak', 'no'],\n",
       " ['sunny', 'cool', 'normal', 'weak', 'yes'],\n",
       " ['rain', 'mild', 'normal', 'weak', 'yes'],\n",
       " ['sunny', 'mild', 'normal', 'strong', 'yes'],\n",
       " ['overcast', 'mild', 'high', 'strong', 'yes'],\n",
       " ['overcast', 'hot', 'normal', 'weak', 'yes'],\n",
       " ['rain', 'mild', 'high', 'strong', 'no']]"
      ]
     },
     "execution_count": 15,
     "metadata": {},
     "output_type": "execute_result"
    }
   ],
   "source": [
    "false_rows"
   ]
  },
  {
   "cell_type": "code",
   "execution_count": 16,
   "metadata": {
    "collapsed": true
   },
   "outputs": [],
   "source": [
    "def gini(rows):\n",
    "    counts = class_counts(rows)\n",
    "    impurity=1\n",
    "    for lbl in counts:\n",
    "        prob_of_lbl=counts[lbl]/float(len(rows))\n",
    "        impurity -= prob_of_lbl **2\n",
    "    return impurity"
   ]
  },
  {
   "cell_type": "code",
   "execution_count": 17,
   "metadata": {},
   "outputs": [
    {
     "data": {
      "text/plain": [
       "0.4591836734693877"
      ]
     },
     "execution_count": 17,
     "metadata": {},
     "output_type": "execute_result"
    }
   ],
   "source": [
    "x=[['apple'],['apple'],['abc'],['abc']]\n",
    "gini(training_data)\n"
   ]
  },
  {
   "cell_type": "code",
   "execution_count": 18,
   "metadata": {
    "collapsed": true
   },
   "outputs": [],
   "source": [
    "def info_gain(left,right,current_uncertainty):\n",
    "    \"\"\"Information Gain=GINI-P(TRUE)*GINI(TRUE)-P(FALSE)*GINI(FALSE)\"\"\"\n",
    "    p=float(len(left))/(len(left)+len(right))\n",
    "    q=float(len(right))/(len(left)+len(right))\n",
    "    return current_uncertainty - p *gini(left)-q*gini(right)"
   ]
  },
  {
   "cell_type": "code",
   "execution_count": 19,
   "metadata": {
    "collapsed": true
   },
   "outputs": [],
   "source": [
    "true_rows,false_rows = partition(training_data,Question(1,1))"
   ]
  },
  {
   "cell_type": "code",
   "execution_count": 20,
   "metadata": {},
   "outputs": [
    {
     "data": {
      "text/plain": [
       "0.1798163265306123"
      ]
     },
     "execution_count": 20,
     "metadata": {},
     "output_type": "execute_result"
    }
   ],
   "source": [
    "info_gain(true_rows,false_rows,0.639)"
   ]
  },
  {
   "cell_type": "code",
   "execution_count": 21,
   "metadata": {
    "collapsed": true
   },
   "outputs": [],
   "source": [
    "def find_best_split(rows):\n",
    "    best_gain=0 #Keep track of best information gain\n",
    "    best_question=None #keep track of the feature/value\n",
    "    current_uncertainty=gini(rows)\n",
    "    n_features=len(rows[0])-1 # number of features=number of total columns- number of label(1)\n",
    "    for col in range(n_features):#for each new feature\n",
    "        values=set([row[col] for row in rows])\n",
    "        for val in values:\n",
    "            question=Question(col,val)\n",
    "            true_rows,false_rows=partition(rows,question)\n",
    "            if len(true_rows)==0 or len(false_rows)==0:\n",
    "                continue\n",
    "            gain=info_gain(true_rows,false_rows,current_uncertainty)\n",
    "            if gain>=best_gain:\n",
    "                best_gain,best_question=gain,question\n",
    "    return best_gain,best_question"
   ]
  },
  {
   "cell_type": "code",
   "execution_count": 22,
   "metadata": {},
   "outputs": [
    {
     "name": "stdout",
     "output_type": "stream",
     "text": [
      "IS outlook == overcast?\n",
      "0.102040816327\n"
     ]
    }
   ],
   "source": [
    "best_gain,best_question=find_best_split(training_data)\n",
    "print(best_question)\n",
    "print(best_gain)"
   ]
  },
  {
   "cell_type": "code",
   "execution_count": 23,
   "metadata": {
    "collapsed": true
   },
   "outputs": [],
   "source": [
    "class leaf:\n",
    "    def __init__(self,rows):\n",
    "        self.predictions = class_counts(rows)"
   ]
  },
  {
   "cell_type": "code",
   "execution_count": 24,
   "metadata": {
    "collapsed": true
   },
   "outputs": [],
   "source": [
    "class Decision_Node:\n",
    "    \"\"\"A Decision Node asks a question\n",
    "    This holds a reference to the question, and to the two nodes\"\"\"\n",
    "    def __init__(self,question,true_branch,false_branch):\n",
    "        self.question=question\n",
    "        self.true_branch =true_branch\n",
    "        self.false_branch = false_branch"
   ]
  },
  {
   "cell_type": "code",
   "execution_count": 25,
   "metadata": {
    "collapsed": true
   },
   "outputs": [],
   "source": [
    "def build_tree(rows):\n",
    "    gain,question = find_best_split(rows)\n",
    "    if gain==0:\n",
    "        return leaf(rows)\n",
    "    true_rows,false_rows =partition(rows,question)\n",
    "    true_branch=build_tree(true_rows)\n",
    "    false_branch=build_tree(false_rows)\n",
    "    return Decision_Node(question,true_branch,false_branch)"
   ]
  },
  {
   "cell_type": "markdown",
   "metadata": {},
   "source": []
  },
  {
   "cell_type": "raw",
   "metadata": {},
   "source": []
  },
  {
   "cell_type": "code",
   "execution_count": null,
   "metadata": {},
   "outputs": [],
   "source": []
  },
  {
   "cell_type": "code",
   "execution_count": 26,
   "metadata": {
    "collapsed": true
   },
   "outputs": [],
   "source": [
    "def print_tree(node,spacing=\" \"):\n",
    "    #Base Case: We have reached the leaf\n",
    "    if isinstance(node,leaf):\n",
    "        print(spacing+\"Predict\",node.predictions)\n",
    "        return\n",
    "    #Print the question at this node\n",
    "    print(spacing+str(node.question))\n",
    "    \n",
    "    #call this function recursively on the true branch\n",
    "    print(spacing+ '---> TRUE:' )\n",
    "    print_tree(node.true_branch,spacing + \" \")\n",
    "    \n",
    "    #call this function recursively of false branch\n",
    "    print(spacing+'---> False:')\n",
    "    print_tree(node.false_branch,spacing+\" \")\n",
    "    "
   ]
  },
  {
   "cell_type": "code",
   "execution_count": 28,
   "metadata": {},
   "outputs": [
    {
     "name": "stdout",
     "output_type": "stream",
     "text": [
      " IS outlook == overcast?\n",
      " ---> TRUE:\n",
      "('  Predict', {'yes': 4})\n",
      " ---> False:\n",
      "  IS humidity == normal?\n",
      "  ---> TRUE:\n",
      "   IS wind == weak?\n",
      "   ---> TRUE:\n",
      "('    Predict', {'yes': 3})\n",
      "   ---> False:\n",
      "    IS temperature == cool?\n",
      "    ---> TRUE:\n",
      "('     Predict', {'no': 1})\n",
      "    ---> False:\n",
      "('     Predict', {'yes': 1})\n",
      "  ---> False:\n",
      "   IS outlook == rain?\n",
      "   ---> TRUE:\n",
      "    IS wind == weak?\n",
      "    ---> TRUE:\n",
      "('     Predict', {'yes': 1})\n",
      "    ---> False:\n",
      "('     Predict', {'no': 1})\n",
      "   ---> False:\n",
      "('    Predict', {'no': 3})\n"
     ]
    }
   ],
   "source": [
    "my_tree=build_tree(training_data)\n",
    "print_tree(my_tree)"
   ]
  },
  {
   "cell_type": "code",
   "execution_count": null,
   "metadata": {
    "collapsed": true
   },
   "outputs": [],
   "source": []
  },
  {
   "cell_type": "code",
   "execution_count": null,
   "metadata": {
    "collapsed": true
   },
   "outputs": [],
   "source": []
  }
 ],
 "metadata": {
  "kernelspec": {
   "display_name": "Python 2",
   "language": "python",
   "name": "python2"
  },
  "language_info": {
   "codemirror_mode": {
    "name": "ipython",
    "version": 2
   },
   "file_extension": ".py",
   "mimetype": "text/x-python",
   "name": "python",
   "nbconvert_exporter": "python",
   "pygments_lexer": "ipython2",
   "version": "2.7.14"
  }
 },
 "nbformat": 4,
 "nbformat_minor": 2
}
