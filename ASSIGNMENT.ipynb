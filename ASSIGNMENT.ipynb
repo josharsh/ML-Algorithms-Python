{
 "cells": [
  {
   "cell_type": "raw",
   "metadata": {},
   "source": [
    "TICKET MANAGEMENT SYSTEM"
   ]
  },
  {
   "cell_type": "code",
   "execution_count": 2,
   "metadata": {},
   "outputs": [
    {
     "name": "stdout",
     "output_type": "stream",
     "text": [
      "Enter Number of Data Items3\n"
     ]
    }
   ],
   "source": [
    "x=int(input(\"Enter Number of Data Items\"))\n"
   ]
  },
  {
   "cell_type": "code",
   "execution_count": 3,
   "metadata": {},
   "outputs": [
    {
     "name": "stdout",
     "output_type": "stream",
     "text": [
      "Enter Ticket Price100\n",
      "Enter Year2015\n",
      "Enter Ticket Price200\n",
      "Enter Year2016\n",
      "Enter Ticket Price300\n",
      "Enter Year2017\n",
      "[100, 200, 300]\n"
     ]
    }
   ],
   "source": [
    "ticket=[]\n",
    "year=[]\n",
    "for i in range(0,x):\n",
    "        ticket.append(input(\"Enter Ticket Price\"))\n",
    "        year.append(input(\"Enter Year\"))\n",
    "\n",
    "print(ticket)"
   ]
  },
  {
   "cell_type": "code",
   "execution_count": 4,
   "metadata": {},
   "outputs": [],
   "source": [
    "def addData():\n",
    "    xx=int(input(\"ENTER NEW PRICE RANGE\"))\n",
    "    yy=int(input(\"Enter Year\"))\n",
    "    ticket.append(xx)\n",
    "    year.append(yy)"
   ]
  },
  {
   "cell_type": "code",
   "execution_count": 5,
   "metadata": {
    "collapsed": true
   },
   "outputs": [],
   "source": [
    "def remData():\n",
    "    xxx=int(input(\"Enter the index to be deleted\"))\n",
    "    ticket.remove(xxx)\n",
    "    year.remove(xxx)"
   ]
  },
  {
   "cell_type": "code",
   "execution_count": 6,
   "metadata": {},
   "outputs": [],
   "source": [
    "def distinctPrice():\n",
    "    return set(ticket)"
   ]
  },
  {
   "cell_type": "code",
   "execution_count": 7,
   "metadata": {},
   "outputs": [],
   "source": [
    "def calcNet():\n",
    "    discount=float(input(\"Enter Discount Percentage\"))\n",
    "    disc=float(discount/100)\n",
    "    net=[]\n",
    "    for i in range(0,x):\n",
    "        net.append(ticket-(ticket[i]*disc))\n",
    "    return net\n",
    "    \n",
    "        "
   ]
  },
  {
   "cell_type": "code",
   "execution_count": 8,
   "metadata": {
    "collapsed": true
   },
   "outputs": [],
   "source": [
    "def FindMaxMin():\n",
    "    MAX=max(ticket)\n",
    "    MIN=min(ticket)\n",
    "    print(\"MAXIMUM PRICE IS\",MIN)\n",
    "    print(\"MINIMUM PRICE IS\",MAX)"
   ]
  },
  {
   "cell_type": "code",
   "execution_count": 9,
   "metadata": {},
   "outputs": [
    {
     "name": "stdout",
     "output_type": "stream",
     "text": [
      "Enter Discount Percentage20\n"
     ]
    },
    {
     "ename": "TypeError",
     "evalue": "unsupported operand type(s) for -: 'list' and 'float'",
     "output_type": "error",
     "traceback": [
      "\u001b[1;31m---------------------------------------------------------------------------\u001b[0m",
      "\u001b[1;31mTypeError\u001b[0m                                 Traceback (most recent call last)",
      "\u001b[1;32m<ipython-input-9-baf879f15aa5>\u001b[0m in \u001b[0;36m<module>\u001b[1;34m()\u001b[0m\n\u001b[1;32m----> 1\u001b[1;33m \u001b[0mcalcNet\u001b[0m\u001b[1;33m(\u001b[0m\u001b[1;33m)\u001b[0m\u001b[1;33m\u001b[0m\u001b[0m\n\u001b[0m",
      "\u001b[1;32m<ipython-input-7-40c2885fb761>\u001b[0m in \u001b[0;36mcalcNet\u001b[1;34m()\u001b[0m\n\u001b[0;32m      4\u001b[0m     \u001b[0mnet\u001b[0m\u001b[1;33m=\u001b[0m\u001b[1;33m[\u001b[0m\u001b[1;33m]\u001b[0m\u001b[1;33m\u001b[0m\u001b[0m\n\u001b[0;32m      5\u001b[0m     \u001b[1;32mfor\u001b[0m \u001b[0mi\u001b[0m \u001b[1;32min\u001b[0m \u001b[0mrange\u001b[0m\u001b[1;33m(\u001b[0m\u001b[1;36m0\u001b[0m\u001b[1;33m,\u001b[0m\u001b[0mx\u001b[0m\u001b[1;33m)\u001b[0m\u001b[1;33m:\u001b[0m\u001b[1;33m\u001b[0m\u001b[0m\n\u001b[1;32m----> 6\u001b[1;33m         \u001b[0mnet\u001b[0m\u001b[1;33m.\u001b[0m\u001b[0mappend\u001b[0m\u001b[1;33m(\u001b[0m\u001b[0mticket\u001b[0m\u001b[1;33m-\u001b[0m\u001b[1;33m(\u001b[0m\u001b[0mticket\u001b[0m\u001b[1;33m[\u001b[0m\u001b[0mi\u001b[0m\u001b[1;33m]\u001b[0m\u001b[1;33m*\u001b[0m\u001b[0mdisc\u001b[0m\u001b[1;33m)\u001b[0m\u001b[1;33m)\u001b[0m\u001b[1;33m\u001b[0m\u001b[0m\n\u001b[0m\u001b[0;32m      7\u001b[0m     \u001b[1;32mreturn\u001b[0m \u001b[0mnet\u001b[0m\u001b[1;33m\u001b[0m\u001b[0m\n\u001b[0;32m      8\u001b[0m \u001b[1;33m\u001b[0m\u001b[0m\n",
      "\u001b[1;31mTypeError\u001b[0m: unsupported operand type(s) for -: 'list' and 'float'"
     ]
    }
   ],
   "source": [
    "calcNet()\n"
   ]
  },
  {
   "cell_type": "code",
   "execution_count": 10,
   "metadata": {},
   "outputs": [
    {
     "name": "stdout",
     "output_type": "stream",
     "text": [
      "PRESS 1 TO DISPLAY TICKET \n",
      " PRESS 2 TO DISPLAY YEAR \n",
      " PRESS 3 TO COUNT TICKETS\n",
      " PRESS 4 TO ADD A NEW TICKET \n",
      " PRESS 5 TO REMOVE TICKET\n",
      " PRESS 6 To CALCULATE DISCOUNT\n",
      " PRESS 7 TO COUNT DISTINCT VALUES\n",
      " PRESS 8 to FIND MAX AND MIN PRICE\n",
      " PRESS 9 TO CALCULATE SUM8\n",
      "('MAXIMUM PRICE IS', 100)\n",
      "('MINIMUM PRICE IS', 300)\n",
      "PRESS 1 TO DISPLAY TICKET \n",
      " PRESS 2 TO DISPLAY YEAR \n",
      " PRESS 3 TO COUNT TICKETS\n",
      " PRESS 4 TO ADD A NEW TICKET \n",
      " PRESS 5 TO REMOVE TICKET\n",
      " PRESS 6 To CALCULATE DISCOUNT\n",
      " PRESS 7 TO COUNT DISTINCT VALUES\n",
      " PRESS 8 to FIND MAX AND MIN PRICE\n",
      " PRESS 9 TO CALCULATE SUM82\n",
      "Invalid Choice\n"
     ]
    }
   ],
   "source": [
    "def mainO():\n",
    "    option1=int(input(\"PRESS 1 TO DISPLAY TICKET \\n PRESS 2 TO DISPLAY YEAR \\n PRESS 3 TO COUNT TICKETS\\n PRESS 4 TO ADD A NEW TICKET \\n PRESS 5 TO REMOVE TICKET\\n PRESS 6 To CALCULATE DISCOUNT\\n PRESS 7 TO COUNT DISTINCT VALUES\\n PRESS 8 to FIND MAX AND MIN PRICE\\n PRESS 9 TO CALCULATE SUM\"))\n",
    "\n",
    "    if(option1==1):\n",
    "        print(ticket)\n",
    "        mainO()\n",
    "    elif(option1==2):\n",
    "        print(year)\n",
    "        mainO()\n",
    "    elif(option1==3):\n",
    "        print(len(year))\n",
    "        mainO()\n",
    "    elif(option1==4):\n",
    "        addData()\n",
    "        mainO()\n",
    "    elif(option1==5):\n",
    "        remData()\n",
    "        mainO()\n",
    "    elif(option1==6):\n",
    "        calcNet()\n",
    "        mainO()\n",
    "    elif(option1==7):\n",
    "        distinctPrice()\n",
    "        mainO()\n",
    "    elif(option1==8):\n",
    "        FindMaxMin()\n",
    "        mainO()\n",
    "    elif(option1==9):\n",
    "        sum(ticket)\n",
    "        mainO()\n",
    "    else:\n",
    "        print(\"Invalid Choice\")\n",
    "mainO()  "
   ]
  },
  {
   "cell_type": "code",
   "execution_count": null,
   "metadata": {
    "collapsed": true
   },
   "outputs": [],
   "source": []
  }
 ],
 "metadata": {
  "kernelspec": {
   "display_name": "Python 2",
   "language": "python",
   "name": "python2"
  },
  "language_info": {
   "codemirror_mode": {
    "name": "ipython",
    "version": 2
   },
   "file_extension": ".py",
   "mimetype": "text/x-python",
   "name": "python",
   "nbconvert_exporter": "python",
   "pygments_lexer": "ipython2",
   "version": "2.7.14"
  }
 },
 "nbformat": 4,
 "nbformat_minor": 2
}
