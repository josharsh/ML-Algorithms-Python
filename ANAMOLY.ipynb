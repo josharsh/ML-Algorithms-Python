{
 "cells": [
  {
   "cell_type": "code",
   "execution_count": 9,
   "metadata": {},
   "outputs": [],
   "source": [
    "import matplotlib.pyplot as plt\n",
    "import numpy as np\n",
    "from numpy import genfromtxt\n",
    "from scipy.stats import multivariate_normal\n",
    "from sklearn.metrics import f1_score\n",
    "import csv"
   ]
  },
  {
   "cell_type": "code",
   "execution_count": 10,
   "metadata": {},
   "outputs": [
    {
     "data": {
      "text/plain": [
       "0.5714285714285715"
      ]
     },
     "execution_count": 10,
     "metadata": {},
     "output_type": "execute_result"
    }
   ],
   "source": [
    "y_act=[1,1,0,0,0,1]\n",
    "y_pred=[1,1,0,1,1,0]\n",
    "f1_score(y_act,y_pred)"
   ]
  },
  {
   "cell_type": "code",
   "execution_count": 11,
   "metadata": {},
   "outputs": [
    {
     "ename": "SyntaxError",
     "evalue": "EOL while scanning string literal (<ipython-input-11-737651d43f53>, line 2)",
     "output_type": "error",
     "traceback": [
      "\u001b[1;36m  File \u001b[1;32m\"<ipython-input-11-737651d43f53>\"\u001b[1;36m, line \u001b[1;32m2\u001b[0m\n\u001b[1;33m    a2='cv_server_data.csv\u001b[0m\n\u001b[1;37m                          ^\u001b[0m\n\u001b[1;31mSyntaxError\u001b[0m\u001b[1;31m:\u001b[0m EOL while scanning string literal\n"
     ]
    }
   ],
   "source": [
    "filename='trserver_data.csv'\n",
    "a2='cv_server_data.csv\n",
    "a3='gt_server_data.csv'\n",
    "def OPENDATA(file):\n",
    "    raw_data =open(file,'rt')\n",
    "    reader=csv.reader(raw_data,delimiter=','quoting=csv.QUOTE_NONE)\n",
    "    x=list(reader)\n",
    "    #tr_data=numpy.array(x).astype('float')\n",
    "    #raw_data =open(a2,'rt')\n",
    "    #reader=csv.reader(raw_data,delimiter=','quoting=csv.QUOTE_NONE)\n",
    "    #x=list(reader)\n",
    "    #tr_data=numpy.array(x).astype('float')\n",
    "    #raw_data =open(a3,'rt')\n",
    "    #reader=csv.reader(raw_data,delimiter=','quoting=csv.QUOTE_NONE)\n",
    "    #x=list(reader)\n",
    "    #tr_data=numpy.array(x).astype('float')\n",
    "\n",
    "n_training_samples=tr_data.shape[0]\n",
    "n_dim=tr.data.shape[1]\n",
    "print('Number of datapoints in training set: %d' %n_training)\n",
    "print('Number of dimensions/features: %d'%n_dim)\n",
    "plt.xlabel('Latency(ms)')\n",
    "plt.ylabel('Throughput(mb/s)')\n",
    "plt.plot(tr_data[:,0],tr_data[:,1],'bx')\n",
    "plt.show()"
   ]
  },
  {
   "cell_type": "code",
   "execution_count": null,
   "metadata": {
    "collapsed": true
   },
   "outputs": [],
   "source": []
  }
 ],
 "metadata": {
  "kernelspec": {
   "display_name": "Python 3",
   "language": "python",
   "name": "python3"
  },
  "language_info": {
   "codemirror_mode": {
    "name": "ipython",
    "version": 3
   },
   "file_extension": ".py",
   "mimetype": "text/x-python",
   "name": "python",
   "nbconvert_exporter": "python",
   "pygments_lexer": "ipython3",
   "version": "3.6.4"
  }
 },
 "nbformat": 4,
 "nbformat_minor": 2
}
