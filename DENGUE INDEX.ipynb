{
 "cells": [
  {
   "cell_type": "code",
   "execution_count": 7,
   "metadata": {
    "collapsed": true
   },
   "outputs": [],
   "source": [
    "temp=[45,50,60,50,40]\n",
    "humidity=[60,20,30,50,55]\n",
    "pop=[80,50,55,65,70]\n",
    "rain=[55,60,65,70,80]"
   ]
  },
  {
   "cell_type": "code",
   "execution_count": 11,
   "metadata": {},
   "outputs": [],
   "source": [
    "def Converting(Temp):\n",
    "    Min=min(Temp)\n",
    "    Max=max(Temp)\n",
    "    R=(Max-Min)/3\n",
    "    R1=Min+R\n",
    "    R2=R1+R\n",
    "    Data=[]\n",
    "    i=0\n",
    "    for i in Temp:\n",
    "        if(i<R1):\n",
    "            Data.append('L')\n",
    "        elif(i<R2):\n",
    "            Data.append('H')\n",
    "        else:\n",
    "            Data.append('M')\n",
    "    return Data"
   ]
  },
  {
   "cell_type": "code",
   "execution_count": 13,
   "metadata": {},
   "outputs": [],
   "source": [
    "\n",
    "Data1=Converting(temp)\n",
    "Data2=Converting(humidity)\n",
    "Data3=Converting(pop)\n",
    "Data4=Converting(rain)\n"
   ]
  },
  {
   "cell_type": "code",
   "execution_count": 15,
   "metadata": {},
   "outputs": [
    {
     "name": "stdout",
     "output_type": "stream",
     "text": [
      "['L', 'H', 'M', 'H', 'L']\n",
      "['M', 'L', 'L', 'M', 'M']\n",
      "['M', 'L', 'L', 'H', 'M']\n",
      "['L', 'L', 'H', 'H', 'M']\n"
     ]
    }
   ],
   "source": [
    "print(Data1)\n",
    "print(Data2)\n",
    "print(Data3)\n",
    "print(Data4)"
   ]
  },
  {
   "cell_type": "code",
   "execution_count": 23,
   "metadata": {
    "collapsed": true
   },
   "outputs": [],
   "source": [
    "def finalFunction(city,D1,D2,D3,D4):\n",
    "    \n",
    "    for i in range(0,len(city)):\n",
    "        newData=[]\n",
    "        newData.append(D1[i])\n",
    "        newData.append(D2[i])\n",
    "        newData.append(D3[i])\n",
    "        newData.append(D4[i])\n",
    "        Hcount=newData.count('H')\n",
    "        Lcount=newData.count('L')\n",
    "        if(Hcount>=3):\n",
    "            print(city[i]+\" HAS \"+\"HIGHT DENGUE INDEX\")\n",
    "        elif(Lcount>=3):\n",
    "            print(city[i]+\" HAS \"+\"LOW DENGUE INDEX\")\n",
    "        else:\n",
    "            print(city[i]+\" HAS \"+\"MEDIUM DENGUE INDEX\")\n",
    "    \n",
    "        "
   ]
  },
  {
   "cell_type": "code",
   "execution_count": 24,
   "metadata": {},
   "outputs": [
    {
     "name": "stdout",
     "output_type": "stream",
     "text": [
      "Mumbai HAS MEDIUM DENGUE INDEX\n",
      "Shimla HAS LOW DENGUE INDEX\n",
      "Delhi HAS MEDIUM DENGUE INDEX\n",
      "Dehradun HAS HIGHT DENGUE INDEX\n",
      "Chennai HAS MEDIUM DENGUE INDEX\n"
     ]
    }
   ],
   "source": [
    "\n",
    "city=[\"Mumbai\",\"Shimla\",\"Delhi\",\"Dehradun\",\"Chennai\"]\n",
    "finalFunction(city,Data1,Data2,Data3,Data4)"
   ]
  },
  {
   "cell_type": "code",
   "execution_count": null,
   "metadata": {
    "collapsed": true
   },
   "outputs": [],
   "source": []
  }
 ],
 "metadata": {
  "kernelspec": {
   "display_name": "Python 2",
   "language": "python",
   "name": "python2"
  },
  "language_info": {
   "codemirror_mode": {
    "name": "ipython",
    "version": 2
   },
   "file_extension": ".py",
   "mimetype": "text/x-python",
   "name": "python",
   "nbconvert_exporter": "python",
   "pygments_lexer": "ipython2",
   "version": "2.7.14"
  }
 },
 "nbformat": 4,
 "nbformat_minor": 2
}
