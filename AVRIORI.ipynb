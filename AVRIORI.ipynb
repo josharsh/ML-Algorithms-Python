{
 "cells": [
  {
   "cell_type": "code",
   "execution_count": 7,
   "metadata": {
    "collapsed": true
   },
   "outputs": [],
   "source": [
    "def load_dataset():\n",
    "    \"to load the sample dataset\"\n",
    "    #return [[1,3,4],[2,3,5],[1,2,3,5],[2,5]]\n",
    "    return [['Milk','Wine','Diaper'],['Sugar','Wine','Fruits'],['Milk','Sugar','Wine','Fruits'],['Sugar','Fruits']]\n",
    "    "
   ]
  },
  {
   "cell_type": "code",
   "execution_count": 8,
   "metadata": {
    "collapsed": true
   },
   "outputs": [],
   "source": [
    "from numpy import *"
   ]
  },
  {
   "cell_type": "code",
   "execution_count": null,
   "metadata": {},
   "outputs": [],
   "source": []
  },
  {
   "cell_type": "code",
   "execution_count": null,
   "metadata": {},
   "outputs": [],
   "source": []
  },
  {
   "cell_type": "code",
   "execution_count": 9,
   "metadata": {
    "collapsed": true
   },
   "outputs": [],
   "source": [
    "def createc1(dataset):\n",
    "    \"Creates a list of candidate item sets of size one\"\n",
    "    c1=[]\n",
    "    for transaction in dataset:\n",
    "        for item in transaction:\n",
    "            if not[item] in c1:\n",
    "                c1.append([item])\n",
    "    c1.sort()\n",
    "    return list(map(frozenset,c1))"
   ]
  },
  {
   "cell_type": "code",
   "execution_count": 10,
   "metadata": {},
   "outputs": [
    {
     "name": "stdout",
     "output_type": "stream",
     "text": [
      "[frozenset({'Diaper'}), frozenset({'Fruits'}), frozenset({'Milk'}), frozenset({'Sugar'}), frozenset({'Wine'})]\n"
     ]
    }
   ],
   "source": [
    "x=load_dataset()\n",
    "c1=createc1(x)\n",
    "print(c1)"
   ]
  },
  {
   "cell_type": "code",
   "execution_count": 11,
   "metadata": {},
   "outputs": [
    {
     "data": {
      "text/plain": [
       "[frozenset({'Diaper'}),\n",
       " frozenset({'Fruits'}),\n",
       " frozenset({'Milk'}),\n",
       " frozenset({'Sugar'}),\n",
       " frozenset({'Wine'})]"
      ]
     },
     "execution_count": 11,
     "metadata": {},
     "output_type": "execute_result"
    }
   ],
   "source": [
    "c1"
   ]
  },
  {
   "cell_type": "code",
   "execution_count": 12,
   "metadata": {
    "collapsed": true
   },
   "outputs": [],
   "source": [
    "def scanD(dataset,candidates,min_support):\n",
    "    \"Returns all candidates that meets a minimum support level\"\n",
    "    sscnt={}\n",
    "    for tid in dataset:\n",
    "        for can in candidates:\n",
    "            if can.issubset(tid):\n",
    "                sscnt.setdefault(can,0)\n",
    "                sscnt[can]+=1\n",
    "    num_items=float(len(dataset))\n",
    "    retlist=[]\n",
    "    support_data={}\n",
    "    for key in sscnt:\n",
    "        support=sscnt[key]/num_items\n",
    "        if support>=min_support:\n",
    "            retlist.insert(0,key) #does same function as append\n",
    "    \n",
    "        support_data[key]=support\n",
    "    return retlist,support_data"
   ]
  },
  {
   "cell_type": "code",
   "execution_count": 13,
   "metadata": {},
   "outputs": [],
   "source": [
    "L1,SD=scanD(x,c1,0.4)"
   ]
  },
  {
   "cell_type": "code",
   "execution_count": null,
   "metadata": {
    "collapsed": true
   },
   "outputs": [],
   "source": []
  },
  {
   "cell_type": "code",
   "execution_count": 14,
   "metadata": {},
   "outputs": [
    {
     "data": {
      "text/plain": [
       "[frozenset({'Sugar'}),\n",
       " frozenset({'Fruits'}),\n",
       " frozenset({'Wine'}),\n",
       " frozenset({'Milk'})]"
      ]
     },
     "execution_count": 14,
     "metadata": {},
     "output_type": "execute_result"
    }
   ],
   "source": [
    "L1"
   ]
  },
  {
   "cell_type": "code",
   "execution_count": 15,
   "metadata": {},
   "outputs": [
    {
     "data": {
      "text/plain": [
       "{frozenset({'Diaper'}): 0.25,\n",
       " frozenset({'Milk'}): 0.5,\n",
       " frozenset({'Wine'}): 0.75,\n",
       " frozenset({'Fruits'}): 0.75,\n",
       " frozenset({'Sugar'}): 0.75}"
      ]
     },
     "execution_count": 15,
     "metadata": {},
     "output_type": "execute_result"
    }
   ],
   "source": [
    "SD"
   ]
  },
  {
   "cell_type": "code",
   "execution_count": 16,
   "metadata": {
    "collapsed": true
   },
   "outputs": [],
   "source": [
    "def apriorGen(Lk,k):\n",
    "    retList=[]\n",
    "    lenLk=len(Lk)\n",
    "    #print(\"LenofLk\",list(Lk[3])[:0])\n",
    "    for i in range(lenLk):\n",
    "        for j in range(i+1,lenLk):\n",
    "            L1=list(Lk[i])[:k-2]\n",
    "            L2=list(Lk[j])[:k-2]\n",
    "            L1.sort()\n",
    "            L2.sort()\n",
    "            if L1==L2:\n",
    "                retList.append(Lk[i]|Lk[j])\n",
    "    return retList"
   ]
  },
  {
   "cell_type": "code",
   "execution_count": 17,
   "metadata": {},
   "outputs": [
    {
     "name": "stdout",
     "output_type": "stream",
     "text": [
      "++++ [frozenset({'Sugar'}), frozenset({'Fruits'}), frozenset({'Wine'}), frozenset({'Milk'})]\n",
      "[frozenset({'Fruits', 'Sugar'}), frozenset({'Wine', 'Sugar'}), frozenset({'Milk', 'Sugar'}), frozenset({'Wine', 'Fruits'}), frozenset({'Milk', 'Fruits'}), frozenset({'Wine', 'Milk'})]\n"
     ]
    }
   ],
   "source": [
    "L1,supportData=scanD(x,c1,0.5)\n",
    "L=[L1]\n",
    "k=2\n",
    "print(\"++++\",L[0])\n",
    "Ck=apriorGen(L[k-2],k)\n",
    "print(Ck)"
   ]
  },
  {
   "cell_type": "code",
   "execution_count": 18,
   "metadata": {},
   "outputs": [
    {
     "data": {
      "text/plain": [
       "[frozenset({'Sugar'}),\n",
       " frozenset({'Fruits'}),\n",
       " frozenset({'Wine'}),\n",
       " frozenset({'Milk'})]"
      ]
     },
     "execution_count": 18,
     "metadata": {},
     "output_type": "execute_result"
    }
   ],
   "source": [
    "L1"
   ]
  },
  {
   "cell_type": "code",
   "execution_count": 19,
   "metadata": {},
   "outputs": [
    {
     "data": {
      "text/plain": [
       "{frozenset({'Diaper'}): 0.25,\n",
       " frozenset({'Milk'}): 0.5,\n",
       " frozenset({'Wine'}): 0.75,\n",
       " frozenset({'Fruits'}): 0.75,\n",
       " frozenset({'Sugar'}): 0.75}"
      ]
     },
     "execution_count": 19,
     "metadata": {},
     "output_type": "execute_result"
    }
   ],
   "source": [
    "supportData"
   ]
  },
  {
   "cell_type": "code",
   "execution_count": 20,
   "metadata": {
    "collapsed": true
   },
   "outputs": [],
   "source": [
    "def apriori(dataset,minSupport=0.40):\n",
    "    C1=createc1(dataset)\n",
    "    D=list(map(set,dataset))\n",
    "    L1,supportData= scanD(D,C1,minSupport)\n",
    "    L=[L1]\n",
    "    k=2\n",
    "    while(len(L[k-2])>0):\n",
    "        Ck=apriorGen(L[k-2],k)\n",
    "        Lk,supK=scanD(D,Ck,minSupport)\n",
    "        supportData.update(supK)\n",
    "        L.append(Lk)\n",
    "        k+=1\n",
    "        \n",
    "    return L,supportData"
   ]
  },
  {
   "cell_type": "code",
   "execution_count": 21,
   "metadata": {
    "collapsed": true
   },
   "outputs": [],
   "source": [
    "L,SD=apriori(load_dataset())"
   ]
  },
  {
   "cell_type": "code",
   "execution_count": 22,
   "metadata": {},
   "outputs": [
    {
     "data": {
      "text/plain": [
       "[[frozenset({'Sugar'}),\n",
       "  frozenset({'Fruits'}),\n",
       "  frozenset({'Wine'}),\n",
       "  frozenset({'Milk'})],\n",
       " [frozenset({'Fruits', 'Wine'}),\n",
       "  frozenset({'Sugar', 'Wine'}),\n",
       "  frozenset({'Fruits', 'Sugar'}),\n",
       "  frozenset({'Milk', 'Wine'})],\n",
       " [frozenset({'Fruits', 'Sugar', 'Wine'})],\n",
       " []]"
      ]
     },
     "execution_count": 22,
     "metadata": {},
     "output_type": "execute_result"
    }
   ],
   "source": [
    "L"
   ]
  },
  {
   "cell_type": "code",
   "execution_count": 23,
   "metadata": {},
   "outputs": [
    {
     "data": {
      "text/plain": [
       "{frozenset({'Diaper'}): 0.25,\n",
       " frozenset({'Milk'}): 0.5,\n",
       " frozenset({'Wine'}): 0.75,\n",
       " frozenset({'Fruits'}): 0.75,\n",
       " frozenset({'Sugar'}): 0.75,\n",
       " frozenset({'Milk', 'Wine'}): 0.5,\n",
       " frozenset({'Fruits', 'Sugar'}): 0.75,\n",
       " frozenset({'Sugar', 'Wine'}): 0.5,\n",
       " frozenset({'Fruits', 'Wine'}): 0.5,\n",
       " frozenset({'Milk', 'Sugar'}): 0.25,\n",
       " frozenset({'Fruits', 'Milk'}): 0.25,\n",
       " frozenset({'Fruits', 'Sugar', 'Wine'}): 0.5,\n",
       " frozenset({'Fruits', 'Milk', 'Wine'}): 0.25,\n",
       " frozenset({'Milk', 'Sugar', 'Wine'}): 0.25}"
      ]
     },
     "execution_count": 23,
     "metadata": {},
     "output_type": "execute_result"
    }
   ],
   "source": [
    "SD"
   ]
  },
  {
   "cell_type": "code",
   "execution_count": null,
   "metadata": {
    "collapsed": true
   },
   "outputs": [],
   "source": []
  }
 ],
 "metadata": {
  "kernelspec": {
   "display_name": "Python 3",
   "language": "python",
   "name": "python3"
  },
  "language_info": {
   "codemirror_mode": {
    "name": "ipython",
    "version": 3
   },
   "file_extension": ".py",
   "mimetype": "text/x-python",
   "name": "python",
   "nbconvert_exporter": "python",
   "pygments_lexer": "ipython3",
   "version": "3.6.4"
  }
 },
 "nbformat": 4,
 "nbformat_minor": 2
}
